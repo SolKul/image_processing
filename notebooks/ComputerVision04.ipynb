{
 "cells": [
  {
   "cell_type": "markdown",
   "id": "fdaab952",
   "metadata": {},
   "source": [
    "# 実践コンピュータビジョン\n",
    "\n",
    "[実践 コンピュータビジョン](https://www.oreilly.co.jp/books/9784873116075/)  \n",
    "[Multiple View Geometry in Computer Vision](https://www.amazon.co.jp/dp/0521540518)(以下、MVGCVと呼ぶ) \n",
    "\n",
    "演習ノート\n",
    "\n",
    "# 4. カメラモデルと拡張現実"
   ]
  },
  {
   "cell_type": "markdown",
   "id": "46164d12",
   "metadata": {},
   "source": [
    "## 4.1 ピンホールカメラモデル\n",
    "3次元上の座標から、画像中の2次元座標への変換を考える。\n",
    "<img src=\"figures/40pinhole_camera.png\" width=\"600\">\n",
    "ズーム倍率を指定すれば、多くのカメラはピンホールカメラとしてモデル化できる。ピンホールカメラでは穴の位置から造影素子の距離を焦点距離$f$とする。そしてここでは焦点距離の単位はmなどで表せ、物理的な長さを表している。"
   ]
  },
  {
   "cell_type": "markdown",
   "id": "a2872b23",
   "metadata": {},
   "source": [
    "#### 透視投影変換\n",
    "ピンホールカメラの穴の位置を原点とし、カメラを構えて右を$X$軸、下を$Y$軸、前方向を$Z$軸正方向とした、右手座標系を考える。後のために$Y$軸を下向きにしている。\n",
    "\n",
    "3次元上の座標$P:(x,y,z)$をどのように画像中の座標に変換するかを考える。\n",
    "\n",
    "まず、下の図のように、$Y,Z$平面で考え、$P:(x,y,z)$を$Z=1$の平面上の点、$P':(x',y',1)$に移すと考える。\n",
    "<img src=\"figures/41pinhole_camera_proportion.png\" width=\"600\">"
   ]
  },
  {
   "cell_type": "markdown",
   "id": "c98b184e",
   "metadata": {},
   "source": [
    "このとき三角形の相似の関係から$P':(x',y',1)$は次のように計算できる。\n",
    "$$\n",
    "\\begin{pmatrix}\n",
    "x' \\\\\n",
    "y' \\\\\n",
    "1\n",
    "\\end{pmatrix}=\n",
    "\\begin{pmatrix}\n",
    "\\frac{x}{z} \\\\\n",
    "\\frac{y}{z} \\\\\n",
    "1\n",
    "\\end{pmatrix}\n",
    "$$\n",
    "\n",
    "そして点$P':(x',y')の次元(長さや時間といった物理的な次元)を考えると、距離を距離で割っているので、次元は無次元と考えられる。"
   ]
  },
  {
   "cell_type": "markdown",
   "id": "24d39a49",
   "metadata": {},
   "source": [
    "#### ビューポート変換\n",
    "そしてこの$Z=1$上の点$P':(x',y')$を画像に切り出したときのピクセル座標$P'':(u,v)$への対応関係を考える。理想的なカメラの場合、下の図のように、$Z=1$の平面を$f$倍し、さらに画像左上が原点になるように座標変換することで変換できる。このような変換をビューポート変換と呼ぶ\n",
    "<img src=\"figures/42viewport_trans.png\" width=\"800\">\n",
    "ピクセル座標$P'':(u,v)$は次のように表せる。\n",
    "$$\n",
    "\\begin{pmatrix}\n",
    "u \\\\\n",
    "v \n",
    "\\end{pmatrix}\n",
    "=\\begin{pmatrix}\n",
    "f x' +c_x\\\\\n",
    "f y' +c_y\n",
    "\\end{pmatrix}\n",
    "$$\n",
    "$P':(x',y')$は無次元で、変換後のピクセル座標の単位はピクセルなので、ここでの焦点距離$f$の単位はピクセルである。最初のピンホールカメラの図で示した焦点距離とは単位が異なることに注意。"
   ]
  },
  {
   "cell_type": "markdown",
   "id": "63db46c6",
   "metadata": {},
   "source": [
    "同次座標を用いて行列で表せば、次のようになる。\n",
    "$$\n",
    "\\begin{pmatrix}\n",
    "u \\\\\n",
    "v \\\\\n",
    "1\n",
    "\\end{pmatrix}\n",
    "=\\begin{pmatrix}\n",
    "f & 0 & c_x\\\\\n",
    "0 & f & c_y\\\\\n",
    "0 & 0 & 1\n",
    "\\end{pmatrix}\n",
    "\\begin{pmatrix}\n",
    "x' \\\\\n",
    "y' \\\\\n",
    "1\n",
    "\\end{pmatrix}\n",
    "$$"
   ]
  },
  {
   "cell_type": "markdown",
   "id": "31fb209b",
   "metadata": {},
   "source": [
    "さらに、$(x',y')=(x/z,y/z)$を代入し、全体に$z$を掛ければ、次のようになる。\n",
    "$$\n",
    "\\lambda\n",
    "\\begin{pmatrix}\n",
    "u \\\\\n",
    "v \\\\\n",
    "1\n",
    "\\end{pmatrix}\n",
    "=\\begin{pmatrix}\n",
    "f & 0 & c_x\\\\\n",
    "0 & f & c_y\\\\\n",
    "0 & 0 & 1\n",
    "\\end{pmatrix}\n",
    "\\begin{pmatrix}\n",
    "x \\\\\n",
    "y \\\\\n",
    "z\n",
    "\\end{pmatrix}\n",
    "$$\n",
    "このように、最初の3次元上の座標から、画像上の2次元ピクセル座標の同次座標が1つの行列計算で求められる。\n",
    "ここで$\\lambda=z$であるが、同次座標はその定義から定数倍しても同じ座標を表すので、左についている$\\lambda$は気にしなくてもいい。"
   ]
  },
  {
   "cell_type": "markdown",
   "id": "2cbe9094",
   "metadata": {},
   "source": [
    "#### 焦点距離の単位について\n",
    "ピンホールカメラモデルの説明として次のような図を用いて説明されることもよくある。\n",
    "<img src=\"figures/43cause_misunderstand.png\" width=\"600\">\n",
    "フィルムカメラで考えれば焦点距離は長さと考えてもいいが、今考えているのは電子的な画像なので、上で述べたように、3次元上の座標から、画像中の2次元座標で現れる焦点距離の単位はピクセルとなる。この図で考えてしまうと、なぜ焦点距離の単位がピクセルなのか分かりにくくなってしまう。また、のちに登場する実際のカメラの歪みを考慮したより正確なビューポート変換の説明に繋げにくい。  \n",
    "焦点距離の理解は注意した方がいいと思われる"
   ]
  }
 ],
 "metadata": {
  "kernelspec": {
   "display_name": "Python 3 (ipykernel)",
   "language": "python",
   "name": "python3"
  },
  "language_info": {
   "codemirror_mode": {
    "name": "ipython",
    "version": 3
   },
   "file_extension": ".py",
   "mimetype": "text/x-python",
   "name": "python",
   "nbconvert_exporter": "python",
   "pygments_lexer": "ipython3",
   "version": "3.9.12"
  }
 },
 "nbformat": 4,
 "nbformat_minor": 5
}
