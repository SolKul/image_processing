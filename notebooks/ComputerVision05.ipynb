{
 "cells": [
  {
   "cell_type": "markdown",
   "id": "b615b23f",
   "metadata": {},
   "source": [
    "# 実践コンピュータビジョン\n",
    "\n",
    "[実践 コンピュータビジョン](https://www.oreilly.co.jp/books/9784873116075/)  \n",
    "[Multiple View Geometry in Computer Vision](https://www.amazon.co.jp/dp/0521540518)(以下、MVGCVと呼ぶ) \n",
    "\n",
    "演習ノート\n",
    "\n",
    "# 5. 多視点幾何学"
   ]
  },
  {
   "cell_type": "markdown",
   "id": "755902ed",
   "metadata": {},
   "source": [
    "## 5.1 エピポーラ幾何\n",
    "\n",
    "https://qiita.com/Thought_Nibbler/items/9cb7c2637000eecc1a30  \n",
    "https://cvml-expertguide.net/terms/epipolar-geometry/  "
   ]
  }
 ],
 "metadata": {
  "kernelspec": {
   "display_name": "Python 3 (ipykernel)",
   "language": "python",
   "name": "python3"
  },
  "language_info": {
   "codemirror_mode": {
    "name": "ipython",
    "version": 3
   },
   "file_extension": ".py",
   "mimetype": "text/x-python",
   "name": "python",
   "nbconvert_exporter": "python",
   "pygments_lexer": "ipython3",
   "version": "3.9.12"
  }
 },
 "nbformat": 4,
 "nbformat_minor": 5
}
