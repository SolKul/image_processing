{
 "cells": [
  {
   "cell_type": "markdown",
   "id": "b615b23f",
   "metadata": {},
   "source": [
    "# 実践コンピュータビジョン\n",
    "\n",
    "[実践 コンピュータビジョン](https://www.oreilly.co.jp/books/9784873116075/)  \n",
    "[Multiple View Geometry in Computer Vision](https://www.amazon.co.jp/dp/0521540518)(以下、MVGCVと呼ぶ) \n",
    "\n",
    "演習ノート\n",
    "\n",
    "# 5. 多視点幾何学"
   ]
  },
  {
   "cell_type": "markdown",
   "id": "755902ed",
   "metadata": {},
   "source": [
    "## 5.1 エピポーラ幾何\n",
    "\n",
    "https://qiita.com/Thought_Nibbler/items/9cb7c2637000eecc1a30  \n",
    "https://cvml-expertguide.net/terms/epipolar-geometry/  "
   ]
  },
  {
   "cell_type": "markdown",
   "id": "0bee0b08",
   "metadata": {},
   "source": [
    "<img src=\"figures/50Epipolar_geometry.jpg\" width=\"500\">"
   ]
  },
  {
   "cell_type": "markdown",
   "id": "e7436ed3",
   "metadata": {},
   "source": [
    ">「カメラ $O_L$ から見ると $X_L$ に物体が写っている」ことしか分かっていない時点では、 $X, X_1, X_2, X_3$ のどこに物体があるかわからない。「カメラ $O_R$ から見て $X_R$ に同じ物体が写っている」ことも分かった場合は、 $X$ に物体があると特定できる。\n",
    ">\n",
    ">- **エピポーラ線（Epiline）** : 図の赤線\n",
    ">    - 「カメラ $O_L$ から見て $X_L$ に物体が写っている」とき、「カメラ $O_R$ から見てどこに物体が写るか」の候補\n",
    ">\n",
    ">- **エピポール（Epipole）** : 図の点 $e_L, e_R$\n",
    ">    - 一方のカメラから他方のカメラが写る位置のこと\n",
    ">    - 物体の位置に関係なく一定\n",
    ">    - どの物体のエピポーラ線もエピポールで交わる\n",
    ">\n",
    ">- **エピポーラ面（Epipolar Plane）** : 図の緑面 $O_L X O_R$\n",
    ">    - 物体の位置と2つのカメラ位置の3点で決まる平面\n",
    ">    - エピポーラ線・エピポールはエピポーラ面上にある"
   ]
  },
  {
   "cell_type": "markdown",
   "id": "3fc61f2a",
   "metadata": {},
   "source": [
    "<img src=\"figures/51epiploar_vector.jpg\" width=\"800\">"
   ]
  },
  {
   "cell_type": "markdown",
   "id": "082f1fdc",
   "metadata": {},
   "source": [
    ">エピポーラ線の方程式を $ax + by + c = 0$ とし、さらに係数ベクトル $(a, b, c)$ を $\\boldsymbol{l}$ とする。\n",
    "すると、(1-1)は以下のように書き換えられる。\n",
    ">\n",
    ">「 $\\boldsymbol{p'} = (x_{p'}, y_{p'}, 1)$ は $\\boldsymbol {p'} \\cdot \\boldsymbol{l} = a x_{p'} + b y_{p'} + c = 0$ を満たす」\n",
    "$\\Leftrightarrow$ 「$\\boldsymbol{p'} = (x_{p'}, y_{p'}, 1)$ は $\\boldsymbol{l}$ と常に垂直である」 --- (1-2)\n",
    ">\n",
    ">これを満たす $\\boldsymbol{l}$ を決めたい。 $\\boldsymbol{p'}$ はエピポーラ面上にあるため、 $\\boldsymbol{l}$ はエピポーラ面に垂直であればよい。\n",
    ">よって、 $\\boldsymbol{l} = \\boldsymbol{t} \\times R \\ \\boldsymbol{p}$ とする（以下理由より）。\n",
    ">\n",
    ">- 理由\n",
    ">    - 2つのベクトルの外積はそれらのベクトルが張る平面に垂直である（外積の定義より）\n",
    ">    - $\\boldsymbol{t}$ はエピポーラ面上のベクトルである（図より）\n",
    ">        - 図では始点が $C$ だが、ここでは $C'$ 座標系で取り扱っていることに注意\n",
    ">    - $R \\ \\boldsymbol{p}$ はどちらもエピポーラ面上のベクトルである\n",
    ">        - $C$ 座標系の $\\boldsymbol{p}$ を $C'$ 座標系で取り扱うために $R$ を作用させている"
   ]
  },
  {
   "cell_type": "markdown",
   "id": "049e28cd",
   "metadata": {},
   "source": [
    ">ここで、 $E = [\\boldsymbol{t}]_{\\times} R$ とおく。この $E$ を**基本行列（Essential Matrix）**と呼ぶ。\n",
    "基本行列 $E$ を用いて(1-4)の条件式を書き換えると、以下のようになる。\n",
    "\n",
    ">$$\\boldsymbol{p'}^T \\ E \\ \\boldsymbol{p} = 0 \\tag{1}$$\n",
    "\n",
    ">これが、基本行列を用いて表したエピポーラ拘束であり、上記2.における $\\boldsymbol{p}$ に求められる条件でもある。"
   ]
  }
 ],
 "metadata": {
  "kernelspec": {
   "display_name": "Python 3 (ipykernel)",
   "language": "python",
   "name": "python3"
  },
  "language_info": {
   "codemirror_mode": {
    "name": "ipython",
    "version": 3
   },
   "file_extension": ".py",
   "mimetype": "text/x-python",
   "name": "python",
   "nbconvert_exporter": "python",
   "pygments_lexer": "ipython3",
   "version": "3.9.12"
  }
 },
 "nbformat": 4,
 "nbformat_minor": 5
}
