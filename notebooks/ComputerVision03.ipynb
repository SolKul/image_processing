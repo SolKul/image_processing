{
 "cells": [
  {
   "cell_type": "markdown",
   "id": "b286469e",
   "metadata": {},
   "source": [
    "# 実践コンピュータビジョン\n",
    "\n",
    "[実践 コンピュータビジョン](https://www.oreilly.co.jp/books/9784873116075/)  \n",
    "[Multiple View Geometry in Computer Vision](https://www.amazon.co.jp/dp/0521540518)(以下、MVGCVと呼ぶ) \n",
    "\n",
    "演習ノート\n",
    "\n",
    "# 3. 画像間の写像"
   ]
  },
  {
   "cell_type": "code",
   "execution_count": 39,
   "id": "2ae3609d",
   "metadata": {},
   "outputs": [],
   "source": [
    "import matplotlib.pyplot as plt\n",
    "import numpy as np\n",
    "import cv2\n",
    "from pathlib import Path    \n",
    "import sys\n",
    "sys.path.append(\"../\")\n",
    "from impro import impro,detection,homography"
   ]
  },
  {
   "cell_type": "markdown",
   "id": "0bfdeae1",
   "metadata": {},
   "source": [
    "## 3.1 ホモグラフィー\n",
    "\n",
    ">ホモグラフィーは、ある平面から別の平面へ写像する2Dの射影変換です。"
   ]
  },
  {
   "cell_type": "markdown",
   "id": "f559b4ab",
   "metadata": {},
   "source": [
    "### 同次座標\n",
    "2次元座標上の点は$(x,y)$と2つの数の組で表せるが、もう1つ座標を加えて、$(x,y,1)$として表す。このような座標のことをを同次座標(homogeneous coordinate)と呼ぶ"
   ]
  },
  {
   "cell_type": "markdown",
   "id": "ae772656",
   "metadata": {},
   "source": [
    "### アフィン変換\n",
    "座標$(x,y)$の点を座標変換して、さらに$(t_x,t_y)$平行移動する場合を考える。\n",
    "$$\n",
    "{\\begin{cases}\n",
    "x' = a_1x+a_2y+t_x \\\\\n",
    "y' = a_3x+a_4y+t_y\n",
    "\\end{cases}\\tag{2}\n",
    "}\n",
    "$$"
   ]
  },
  {
   "cell_type": "markdown",
   "id": "59195eb9",
   "metadata": {},
   "source": [
    "同次座標を用いればこれを行列の積で表すことができる。\n",
    "$$\n",
    "\\begin{pmatrix}\n",
    "x' \\\\\n",
    "y' \\\\\n",
    "1\n",
    "\\end{pmatrix}=\n",
    "\\begin{pmatrix}\n",
    "a_1 & a_2 & t_x \\\\\n",
    "a_3 & a_4 & t_y \\\\\n",
    "0 & 0 & 1\n",
    "\\end{pmatrix}\n",
    "\\begin{pmatrix}\n",
    "x \\\\\n",
    "y \\\\\n",
    "1\n",
    "\\end{pmatrix}\n",
    "$$"
   ]
  },
  {
   "cell_type": "markdown",
   "id": "35c04c9f",
   "metadata": {},
   "source": [
    "同次座標のメリットはほかにもいろいろある。同次座標、射影平面、アフィン変換、射影変換について詳しくは以下を参照  \n",
    "- [完全に理解するアフィン変換 - Qiita](https://qiita.com/koshian2/items/c133e2e10c261b8646bf)  \n",
    "- [Python, OpenCVで幾何変換（アフィン変換・射影変換など） | note.nkmk.me](https://note.nkmk.me/python-opencv-warp-affine-perspective/)\n",
    "- [射影平面をいくつかの方法で図示してみる - あおいろメモ](https://solkul.hatenablog.com/entry/2021/01/15/113702)  "
   ]
  },
  {
   "cell_type": "markdown",
   "id": "06656c20",
   "metadata": {},
   "source": [
    "### 回転\n",
    "OpenCVでは、画像の左上を原点$(0,0)$とし、右方向を$x$プラス方向、下方向を$y$プラス方向に取る。数学のxy座標系とは異なるので注意。  \n",
    "一方、`cv2.getRotationMatrix2D`は数学でのxy座標系と同様、反時計回りを正に取る。  \n",
    "従って、数学では回転行列が\n",
    "$$\n",
    "\\begin{pmatrix}\n",
    "\\cos\\theta & -\\sin\\theta \\\\\n",
    "\\sin\\theta & \\cos\\theta\n",
    "\\end{pmatrix}\n",
    "$$\n",
    "であるのに対し、OpenCVでは\n",
    "$$\n",
    "\\begin{pmatrix}\n",
    "\\cos\\theta & \\sin\\theta \\\\\n",
    "- \\sin\\theta & \\cos\\theta\n",
    "\\end{pmatrix}\n",
    "$$\n",
    "となる。\n",
    "詳しくはドキュメント参照  \n",
    "[Geometric Image Transformations — opencv v2.2 documentation](http://opencv.jp/opencv-2.2_org/py/imgproc_geometric_image_transformations.html#getrotationmatrix2d)"
   ]
  },
  {
   "cell_type": "markdown",
   "id": "9e80e45b",
   "metadata": {},
   "source": [
    "### 正規化と同次座標への変換"
   ]
  },
  {
   "cell_type": "code",
   "execution_count": 41,
   "id": "90aa451c",
   "metadata": {},
   "outputs": [
    {
     "data": {
      "text/plain": [
       "array([[ 0,  1,  2,  3],\n",
       "       [ 4,  5,  6,  7],\n",
       "       [ 8,  9, 10, 11]])"
      ]
     },
     "execution_count": 41,
     "metadata": {},
     "output_type": "execute_result"
    }
   ],
   "source": [
    "# 自作のimpro.homographyに3つの組の最後の座標で割り、正規化する関数を実装\n",
    "points=np.arange(12).reshape(3,-1)\n",
    "points"
   ]
  },
  {
   "cell_type": "code",
   "execution_count": 42,
   "id": "a1df8162",
   "metadata": {},
   "outputs": [
    {
     "data": {
      "text/plain": [
       "array([[0.        , 0.11111111, 0.2       , 0.27272727],\n",
       "       [0.5       , 0.55555556, 0.6       , 0.63636364],\n",
       "       [1.        , 1.        , 1.        , 1.        ]])"
      ]
     },
     "execution_count": 42,
     "metadata": {},
     "output_type": "execute_result"
    }
   ],
   "source": [
    "homography.normalize(points)"
   ]
  },
  {
   "cell_type": "code",
   "execution_count": 43,
   "id": "83d842ff",
   "metadata": {},
   "outputs": [
    {
     "data": {
      "text/plain": [
       "array([[ 0,  1,  2,  3,  4,  5],\n",
       "       [ 6,  7,  8,  9, 10, 11]])"
      ]
     },
     "execution_count": 43,
     "metadata": {},
     "output_type": "execute_result"
    }
   ],
   "source": [
    "# 同次座標への変換\n",
    "points=np.arange(12).reshape(2,-1)\n",
    "points"
   ]
  },
  {
   "cell_type": "code",
   "execution_count": 61,
   "id": "406208cf",
   "metadata": {},
   "outputs": [
    {
     "data": {
      "text/plain": [
       "array([[ 0.,  1.,  2.,  3.,  4.,  5.],\n",
       "       [ 6.,  7.,  8.,  9., 10., 11.],\n",
       "       [ 1.,  1.,  1.,  1.,  1.,  1.]])"
      ]
     },
     "execution_count": 61,
     "metadata": {},
     "output_type": "execute_result"
    }
   ],
   "source": [
    "homography.make_homog(points)"
   ]
  },
  {
   "cell_type": "markdown",
   "id": "a431b9a2",
   "metadata": {},
   "source": [
    "### 3.1.1 DLTアルゴリズム\n",
    "射影変換はホモグラフィー行列$H$を使って次のように表すことができる\n",
    "$$\n",
    "\\begin{pmatrix}\n",
    "x' \\\\\n",
    "y' \\\\\n",
    "w'\n",
    "\\end{pmatrix}=\n",
    "\\begin{pmatrix}\n",
    "h_1 & h_2 & h_3 \\\\\n",
    "h_4 & h_5 & h_6 \\\\\n",
    "h_7 & h_8 & h_9\n",
    "\\end{pmatrix}\n",
    "\\begin{pmatrix}\n",
    "x \\\\\n",
    "y \\\\\n",
    "w\n",
    "\\end{pmatrix}\n",
    "$$\n",
    "$$\n",
    "\\boldsymbol{x}'=H\\boldsymbol{x}\n",
    "$$\n",
    "\n",
    "ある点$(x,y)$から$(x',y')$へ変換する$H$を求めるのがDirect Linear Transformation(DLT)アルゴリズムである。詳しい導出は[Multiple View Geometry in Computer Vision](https://www.amazon.co.jp/dp/0521540518)の4.1(p88)を参照。以下はその概要と、補足を記す。"
   ]
  },
  {
   "cell_type": "markdown",
   "id": "5fc03723",
   "metadata": {},
   "source": [
    "DLTアルゴリズムは外積$\\boldsymbol{x}'$同士の外積$\\boldsymbol{x}'\\times H\\boldsymbol{x}$が0であることを用いて導出する。\n",
    "$$\n",
    "\\boldsymbol{x}'_i\\times H\\boldsymbol{x}_i=\n",
    "\\begin{pmatrix}\n",
    "y'_i\\boldsymbol{h}^{3T}-w'_i\\boldsymbol{h}^{2T} \\\\\n",
    "w'_i\\boldsymbol{h}^{1T}-x'_i\\boldsymbol{h}^{3T} \\\\\n",
    "x'_i\\boldsymbol{h}^{2T}-y'_i\\boldsymbol{h}^{1T}\n",
    "\\end{pmatrix}\n",
    "=\\boldsymbol{0}\n",
    "$$\n",
    "これを変形することで、$A\\boldsymbol{h}=\\boldsymbol{0}$という式になる。"
   ]
  },
  {
   "cell_type": "markdown",
   "id": "12f9b145",
   "metadata": {},
   "source": [
    "#### 線形代数のIm:像、Ker:核との関係\n",
    "MVGCVのp90では以下のように述べている。\n",
    ">変換前、変換後の点の対応1つにつき、2つの独立な線形方程式が得られる。もしそのような対応が4点分あったら、8つの独立な線形方程式が得られる。そうすると、$A$のランクが8となるので、$\\boldsymbol{h}$の解は非ゼロの1次元ベクトル空間になる。これによって$\\boldsymbol{h}$はスケールの違いを除いて一意に決まる。\n",
    "\n",
    "\n",
    "これについて捕捉する。$\\boldsymbol{h}=\\mathrm{Ker}A$(Aのカーネル)であるので、もともとの$h$がとりうるベクトル空間を$V$とすると\n",
    "$$\n",
    "\\mathrm{dim}V=\\mathrm{rank}A+\\mathrm{dim}\\boldsymbol{h}\n",
    "$$\n",
    "とできる。今、8つの独立な線形方程式が得られ、$\\mathrm{rank}A=8$となり、$\\mathrm{dim}V=9$なので$\\mathrm{dim}\\boldsymbol{h}=1$となる、つまり$\\boldsymbol{h}$は行列の固有ベクトルのように大きさが任意の向きが決まったベクトルとなるということである。なお、$\\mathrm{dim}V=\\mathrm{rank}A+\\mathrm{dim}\\boldsymbol{h}$については以下を参照\n",
    "\n",
    "\n",
    "[線形写像の次元定理dim V = rank f + dim ker fの証明 | 数学の景色](https://mathlandscape.com/rank-ker-dim/)"
   ]
  },
  {
   "cell_type": "markdown",
   "id": "bb502d31",
   "metadata": {},
   "source": [
    "#### 特異値分解 singular value decomposition(SVD)との関係\n",
    "一般的に$h$を求めるには$A^TA$の最小の固有値に対応する固有ベクトルが$h$となる。具体的には$A$を特異値分解し、\n",
    "$$\n",
    "A=U\\Sigma V^T\n",
    "$$\n",
    "この右特異ベクトル$V^T$の8行目のベクトルが最適な$h$となる。  \n",
    "この導出に利用する線形方程式の解法についてはMVGCVのA.5(p588)や日本語の場合次の資料を参照。  \n",
    "- [【解説】 一般逆行列](https://www.slideshare.net/wosugi/ss-79624897)\n",
    "- [特異値分解を詳しく解説 - Qiita](https://qiita.com/kidaufo/items/0f3da4ca4e19dc0e987e)"
   ]
  },
  {
   "cell_type": "markdown",
   "id": "e16b64dd",
   "metadata": {},
   "source": [
    "[特異値分解を詳しく解説 - Qiita](https://qiita.com/kidaufo/items/0f3da4ca4e19dc0e987e)で述べているように、numpyの`np.linalg.svd`場合、$m\\times\n",
    "n$でランクが$r<m,n$の行列$A$を特異値分解すると、次の図で示されるような分解のされ方をする。\n",
    "![img](figures/01SVD_python.png)"
   ]
  },
  {
   "cell_type": "markdown",
   "id": "77167d48",
   "metadata": {},
   "source": [
    "DLTアルゴリズムでは$A$は$m\\times9$なので、次の図のようになる。そして$V^T$の8行目が最適な$h$となる。(条件を満たすホモグラフィーが存在する4点以上の厳密な座標の対応が与えられたときには$A$はランク8、つまり$r=8$となるが、そうでない場合は$r\\neq8$となりうる)\n",
    "![img](figures/02SVD_DLT.png)"
   ]
  },
  {
   "cell_type": "markdown",
   "id": "6a7b829b",
   "metadata": {},
   "source": [
    "[実践 コンピュータビジョン](https://www.oreilly.co.jp/books/9784873116075/)のp57のサンプルコードでは次のように$V^T$の8行目を取得し、$H$としている。\n",
    "```python\n",
    "U,S,V = np.linalg.svd(mat_A)\n",
    "H = V[8].reshape((3,3))\n",
    "```"
   ]
  },
  {
   "cell_type": "code",
   "execution_count": 52,
   "id": "ca368507",
   "metadata": {},
   "outputs": [
    {
     "data": {
      "text/plain": [
       "array([[ 0.,  0., 10., 10.],\n",
       "       [ 0., 10.,  0., 10.]], dtype=float32)"
      ]
     },
     "execution_count": 52,
     "metadata": {},
     "output_type": "execute_result"
    }
   ],
   "source": [
    "src=np.array(\n",
    "    [\n",
    "        [0,0],\n",
    "        [0,1],\n",
    "        [1,0],\n",
    "        [1,1]\n",
    "    ],\n",
    "    np.float32).T\n",
    "dest=src*10\n",
    "dest"
   ]
  },
  {
   "cell_type": "code",
   "execution_count": 63,
   "id": "00927f29",
   "metadata": {},
   "outputs": [
    {
     "data": {
      "text/plain": [
       "array([[ 0.,  0., 10., 10.],\n",
       "       [ 0., 10.,  0., 10.],\n",
       "       [ 1.,  1.,  1.,  1.]])"
      ]
     },
     "execution_count": 63,
     "metadata": {},
     "output_type": "execute_result"
    }
   ],
   "source": [
    "src_homo=homography.make_homog(src)\n",
    "dest_homo=homography.make_homog(dest)\n",
    "dest_homo"
   ]
  },
  {
   "cell_type": "code",
   "execution_count": 67,
   "id": "17564577",
   "metadata": {},
   "outputs": [],
   "source": [
    "m = np.mean(src_homo[:2], axis=1)\n",
    "maxstd = np.max(np.std(src_homo[:2], axis=1)) + 1e-9\n",
    "\n",
    "c_1:np.ndarray = np.diag([1/maxstd, 1/maxstd, 1])\n",
    "c_1[0][2] = -m[0]/maxstd\n",
    "c_1[1][2] = -m[1]/maxstd\n",
    "src_cnv = c_1 @ src_homo"
   ]
  },
  {
   "cell_type": "code",
   "execution_count": 70,
   "id": "f79898ef",
   "metadata": {},
   "outputs": [
    {
     "data": {
      "text/plain": [
       "array([[ 2.,  0., -1.],\n",
       "       [ 0.,  2., -1.],\n",
       "       [ 0.,  0.,  1.]])"
      ]
     },
     "execution_count": 70,
     "metadata": {},
     "output_type": "execute_result"
    }
   ],
   "source": [
    "c_1"
   ]
  },
  {
   "cell_type": "code",
   "execution_count": 69,
   "id": "2659b442",
   "metadata": {},
   "outputs": [
    {
     "data": {
      "text/plain": [
       "array([[0., 0., 1., 1.],\n",
       "       [0., 1., 0., 1.],\n",
       "       [1., 1., 1., 1.]])"
      ]
     },
     "execution_count": 69,
     "metadata": {},
     "output_type": "execute_result"
    }
   ],
   "source": [
    "src_homo"
   ]
  },
  {
   "cell_type": "code",
   "execution_count": 77,
   "id": "cf9385bf",
   "metadata": {},
   "outputs": [],
   "source": [
    "m = np.mean(src_homo[:2], axis=1)\n",
    "maxstd = np.max(np.std(src_homo[:2], axis=1)) + 1e-9\n",
    "c_1:np.ndarray = np.diag([1/maxstd, 1/maxstd, 1])\n",
    "c_1[0][2] = -m[0]/maxstd\n",
    "c_1[1][2] = -m[1]/maxstd\n",
    "fp = c_1 @ src_homo\n",
    "# 対応点\n",
    "m = np.mean(dest_homo[:2], axis=1)\n",
    "maxstd = np.max(np.std(dest_homo[:2], axis=1)) + 1e-9\n",
    "c_2:np.ndarray = np.diag([1/maxstd, 1/maxstd, 1])\n",
    "c_2[0][2] = -m[0]/maxstd\n",
    "c_2[1][2] = -m[1]/maxstd\n",
    "tp = c_2 @ dest_homo"
   ]
  },
  {
   "cell_type": "code",
   "execution_count": 79,
   "id": "372a9693",
   "metadata": {},
   "outputs": [],
   "source": [
    "nbr_correspondences = src_homo.shape[1]"
   ]
  },
  {
   "cell_type": "code",
   "execution_count": 81,
   "id": "5db82168",
   "metadata": {},
   "outputs": [],
   "source": [
    "mat_A = np.zeros((2*nbr_correspondences,9))\n",
    "for i in range(nbr_correspondences):\n",
    "    mat_A[2*i] = [-fp[0][i],-fp[1][i],-1,0,0,0,\n",
    "        tp[0][i]*fp[0][i],tp[0][i]*fp[1][i],tp[0][i]]\n",
    "    mat_A[2*i+1] = [0,0,0,-fp[0][i],-fp[1][i],-1,\n",
    "        tp[1][i]*fp[0][i],tp[1][i]*fp[1][i],tp[1][i]]"
   ]
  },
  {
   "cell_type": "code",
   "execution_count": 83,
   "id": "ac0d4c2e",
   "metadata": {},
   "outputs": [],
   "source": [
    "U,S,V = np.linalg.svd(mat_A)"
   ]
  },
  {
   "cell_type": "code",
   "execution_count": 89,
   "id": "ddc7ab58",
   "metadata": {},
   "outputs": [
    {
     "data": {
      "text/plain": [
       "(8, 8)"
      ]
     },
     "execution_count": 89,
     "metadata": {},
     "output_type": "execute_result"
    }
   ],
   "source": [
    "U.shape"
   ]
  },
  {
   "cell_type": "code",
   "execution_count": 90,
   "id": "28ce26a2",
   "metadata": {},
   "outputs": [
    {
     "data": {
      "text/plain": [
       "(9, 9)"
      ]
     },
     "execution_count": 90,
     "metadata": {},
     "output_type": "execute_result"
    }
   ],
   "source": [
    "V.shape"
   ]
  }
 ],
 "metadata": {
  "kernelspec": {
   "display_name": "Python 3 (ipykernel)",
   "language": "python",
   "name": "python3"
  },
  "language_info": {
   "codemirror_mode": {
    "name": "ipython",
    "version": 3
   },
   "file_extension": ".py",
   "mimetype": "text/x-python",
   "name": "python",
   "nbconvert_exporter": "python",
   "pygments_lexer": "ipython3",
   "version": "3.9.12"
  },
  "vscode": {
   "interpreter": {
    "hash": "d4d1e4263499bec80672ea0156c357c1ee493ec2b1c70f0acce89fc37c4a6abe"
   }
  }
 },
 "nbformat": 4,
 "nbformat_minor": 5
}
